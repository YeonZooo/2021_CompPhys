{
 "cells": [
  {
   "cell_type": "code",
   "execution_count": 1,
   "metadata": {},
   "outputs": [
    {
     "name": "stdout",
     "output_type": "stream",
     "text": [
      "[0.56 0.72 1.92 2.24 2.16]\n"
     ]
    }
   ],
   "source": [
    "# 1\n",
    "\n",
    "import numpy as np\n",
    "import math\n",
    "\n",
    "def conjGrad(Av,b,tol=1.0e-9):\n",
    "    n = len(b)\n",
    "    x = np.zeros(n)\n",
    "    r = b - Av@x\n",
    "    s = r.copy()\n",
    "    for i in range(n):\n",
    "        u = Av@s\n",
    "        alpha = np.dot(s,r)/np.dot(s,u)\n",
    "        x = x + alpha*s\n",
    "        r = b - Av@x\n",
    "        if(math.sqrt(np.dot(r,r))) < tol:\n",
    "            break \n",
    "        else:\n",
    "            beta = -np.dot(r,u)/np.dot(s,u)\n",
    "            s = r + beta*s\n",
    "    \n",
    "    return x,i\n",
    "\n",
    "A = np.array([[ 2.,-1., 0., 0., 0.],\n",
    "              [-1., 4.,-1., 0., 0.],\n",
    "              [ 0.,-1., 4.,-1.,-2.],\n",
    "              [ 0., 0.,-1., 2.,-1.],\n",
    "              [ 0., 0.,-2.,-1., 3.]])\n",
    "b = np.ones(5)/2.5\n",
    "\n",
    "vsol, Int = conjGrad(A,b)\n",
    "\n",
    "print(vsol)"
   ]
  },
  {
   "cell_type": "code",
   "execution_count": 2,
   "metadata": {},
   "outputs": [
    {
     "name": "stdout",
     "output_type": "stream",
     "text": [
      "\n",
      "- Conjugate Gradiant method \n",
      "  time1: 0.0009932518005371094\n",
      "\n",
      "[2.90191936 2.60767745 2.52879042 2.50748425 2.50114659 2.4971021\n",
      " 2.48726181 2.45194513 2.3205187  1.83012968]\n",
      "\n",
      "\n",
      "- Gauss Elimin method\n",
      "  time2: 0.0004360675811767578\n",
      "  \n",
      "[2.90191936 2.60767745 2.52879042 2.50748425 2.50114659 2.4971021\n",
      " 2.48726181 2.45194513 2.3205187  1.83012968]\n",
      "\n",
      "time1/time2: 2.277747402952433\n"
     ]
    }
   ],
   "source": [
    "# 2-1\n",
    "import numpy as np\n",
    "import math\n",
    "from time import time\n",
    "\n",
    "n = 10\n",
    "A = - np.eye(n,k=-1) + 4*np.eye(n,k=0) - np.eye(n,k=1)\n",
    "b = 5*np.ones(n); b[0] = 9\n",
    "\n",
    "def conjGrad(Av,b,tol=1.0e-9):\n",
    "    n = len(b)\n",
    "    x = np.zeros(n)\n",
    "    r = b - Av@x\n",
    "    s = r.copy()\n",
    "    for i in range(n):\n",
    "        u = Av@s\n",
    "        alpha = np.dot(s,r)/np.dot(s,u)\n",
    "        x = x + alpha*s\n",
    "        r = b - Av@x\n",
    "        if(math.sqrt(np.dot(r,r))) < tol:\n",
    "            break \n",
    "        else:\n",
    "            beta = -np.dot(r,u)/np.dot(s,u)\n",
    "            s = r + beta*s\n",
    "    return x,i\n",
    "\n",
    "start_time = time()\n",
    "vsol, Int = conjGrad(A,b)\n",
    "conj_time = time() - start_time\n",
    "\n",
    "print(f\"\"\"\n",
    "- Conjugate Gradiant method \n",
    "  time1: {conj_time}\n",
    "\n",
    "{vsol}\n",
    "\"\"\")\n",
    "def gaussElimin(a, b):\n",
    "    n = len(b)\n",
    "    for k in range(0, n-1):\n",
    "        for i in range(k+1, n):\n",
    "            if a[i, k] != 0.0:\n",
    "                lam = a[i,k]/a[k,k]\n",
    "                a[i, k+1:n] = a[i, k+1:n] - lam * a[k, k+1:n]\n",
    "                b[i] = b[i] - lam * b[k]\n",
    "    for k in range(n-1, -1, -1):\n",
    "        b[k] = (b[k] - np.dot(a[k,k+1:n], b[k+1:n]))/a[k,k]\n",
    "    return b\n",
    "\n",
    "start_time = time()\n",
    "vsol = gaussElimin(A,b)\n",
    "gaus_time = time() - start_time\n",
    "\n",
    "print(f\"\"\"\n",
    "- Gauss Elimin method\n",
    "  time2: {gaus_time}\n",
    "  \n",
    "{vsol}\n",
    "\n",
    "time1/time2: {conj_time/gaus_time}\"\"\")"
   ]
  },
  {
   "cell_type": "code",
   "execution_count": 3,
   "metadata": {},
   "outputs": [
    {
     "name": "stdout",
     "output_type": "stream",
     "text": [
      "\n",
      "- Conjugate Gradiant method \n",
      "  time1: 0.5496501922607422\n",
      "\n",
      "[2.90192379 2.60769515 2.52885683 ... 2.45190528 2.32050808 1.83012702]\n",
      "\n",
      "\n",
      "- Gauss Elimin method\n",
      "  time2: 15.566628456115723\n",
      "  \n",
      "[2.90192379 2.60769515 2.52885683 ... 2.45190528 2.32050808 1.83012702]\n",
      "\n",
      "time1/time2: 0.0353095208644746\n"
     ]
    }
   ],
   "source": [
    "# 2-2\n",
    "\n",
    "n = 10000\n",
    "A = - np.eye(n,k=-1) + 4*np.eye(n,k=0) - np.eye(n,k=1)\n",
    "b = 5*np.ones(n); b[0] = 9\n",
    "\n",
    "start_time = time()\n",
    "vsol, Int = conjGrad(A,b)\n",
    "conj_time = time() - start_time\n",
    "\n",
    "print(f\"\"\"\n",
    "- Conjugate Gradiant method \n",
    "  time1: {conj_time}\n",
    "\n",
    "{vsol}\n",
    "\"\"\")\n",
    "\n",
    "start_time = time()\n",
    "vsol = gaussElimin(A,b)\n",
    "gaus_time = time() - start_time\n",
    "\n",
    "print(f\"\"\"\n",
    "- Gauss Elimin method\n",
    "  time2: {gaus_time}\n",
    "  \n",
    "{vsol}\n",
    "\n",
    "time1/time2: {conj_time/gaus_time}\"\"\")"
   ]
  },
  {
   "cell_type": "code",
   "execution_count": 4,
   "metadata": {},
   "outputs": [
    {
     "name": "stdout",
     "output_type": "stream",
     "text": [
      "[-1.  0.  1.]\n",
      "\n",
      "linalg.solve:[-1.  0.  1.]\n"
     ]
    }
   ],
   "source": [
    "# 3\n",
    "import numpy as np\n",
    "\n",
    "A = np.array([[1.,0.,1.],\n",
    "              [0.,1.,0.],\n",
    "              [0.,0.,1.]])\n",
    "b = np.array([0.,0.,1.])\n",
    "\n",
    "x0 = np.array([-1.,0.,0.])\n",
    "s0 = np.array([0.,0.,1.])  # 탐색 방향 벡터, search direction\n",
    "r0 = b - A@x0    # Residual, 차이\n",
    "a0 = s0@r0 / (s0@A@s0)    # Scaling factor\n",
    "# Update x\n",
    "x1 = x0 + a0*s0\n",
    "print(x1)\n",
    "\n",
    "print(f\"\\nlinalg.solve:{np.linalg.solve(A,b)}\")"
   ]
  },
  {
   "cell_type": "code",
   "execution_count": null,
   "metadata": {},
   "outputs": [],
   "source": []
  }
 ],
 "metadata": {
  "kernelspec": {
   "display_name": "Python 3",
   "language": "python",
   "name": "python3"
  },
  "language_info": {
   "codemirror_mode": {
    "name": "ipython",
    "version": 3
   },
   "file_extension": ".py",
   "mimetype": "text/x-python",
   "name": "python",
   "nbconvert_exporter": "python",
   "pygments_lexer": "ipython3",
   "version": "3.6.8"
  }
 },
 "nbformat": 4,
 "nbformat_minor": 4
}
