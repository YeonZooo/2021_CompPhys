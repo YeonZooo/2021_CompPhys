{
 "cells": [
  {
   "cell_type": "code",
   "execution_count": null,
   "metadata": {},
   "outputs": [],
   "source": [
    "# 대칭행렬"
   ]
  },
  {
   "cell_type": "code",
   "execution_count": 2,
   "metadata": {},
   "outputs": [
    {
     "data": {
      "text/plain": [
       "array([1.36924494, 0.86924494, 0.2679558 , 0.07734807, 0.03314917])"
      ]
     },
     "execution_count": 2,
     "metadata": {},
     "output_type": "execute_result"
    }
   ],
   "source": [
    "import numpy as np\n",
    "\n",
    "c = np.array([-2.,-6,12.,-6.])\n",
    "d = np.array([2.,5.,16.,-39.,14.])\n",
    "e = c.copy()\n",
    "\n",
    "b = np.array([1.,0.,0.,0.,0.])\n",
    "# bv = np.zeros(5); bv[0] = 1\n",
    "\n",
    "amat = np.diag(c,k=-1) + np.diag(d,k=0) + np.diag(e,k=1)\n",
    "\n",
    "np.linalg.solve(amat,b)"
   ]
  },
  {
   "cell_type": "code",
   "execution_count": 3,
   "metadata": {},
   "outputs": [],
   "source": [
    "from ch2 import *"
   ]
  },
  {
   "cell_type": "code",
   "execution_count": 4,
   "metadata": {},
   "outputs": [
    {
     "data": {
      "text/plain": [
       "array([1.36924494, 0.86924494, 0.2679558 , 0.07734807, 0.03314917])"
      ]
     },
     "execution_count": 4,
     "metadata": {},
     "output_type": "execute_result"
    }
   ],
   "source": [
    "gaussElimin(amat.copy(),b.copy())"
   ]
  },
  {
   "cell_type": "code",
   "execution_count": 5,
   "metadata": {},
   "outputs": [
    {
     "name": "stdout",
     "output_type": "stream",
     "text": [
      "LU [[  2.    -2.     0.     0.     0.  ]\n",
      " [ -1.     3.    -6.     0.     0.  ]\n",
      " [  0.    -2.     4.    12.     0.  ]\n",
      " [  0.     0.     3.   -75.    -6.  ]\n",
      " [  0.     0.     0.     0.08  14.48]]\n"
     ]
    },
    {
     "data": {
      "text/plain": [
       "array([1.36924494, 0.86924494, 0.2679558 , 0.07734807, 0.03314917])"
      ]
     },
     "execution_count": 5,
     "metadata": {},
     "output_type": "execute_result"
    }
   ],
   "source": [
    "LU = LUdecomp(amat.copy())\n",
    "print('LU',LU)\n",
    "LUsolve(LU,b.copy())"
   ]
  },
  {
   "cell_type": "code",
   "execution_count": 6,
   "metadata": {},
   "outputs": [
    {
     "data": {
      "text/plain": [
       "array([1.36924494, 0.86924494, 0.2679558 , 0.07734807, 0.03314917])"
      ]
     },
     "execution_count": 6,
     "metadata": {},
     "output_type": "execute_result"
    }
   ],
   "source": [
    "# 삼중대각\n",
    "\n",
    "am = amat.copy()\n",
    "bv = b.copy()\n",
    "cv = c.copy()\n",
    "dv = d.copy()\n",
    "ev = e.copy()\n",
    "\n",
    "LUdecomp3(cv,dv,ev)\n",
    "LUsolve3(cv,dv,ev,bv)"
   ]
  },
  {
   "cell_type": "code",
   "execution_count": null,
   "metadata": {},
   "outputs": [],
   "source": [
    "# 대칭행렬일때 (?)\n",
    "# A, seq = LUdecompp(amat)\n",
    "\n",
    "# L, D, U 를 찾으시오\n",
    "# A = L @ U = L @ D @ LT 성질이 있다는 것을 기억하시오\n",
    "\n",
    "A = np.array([[ 3, -3,  3],\n",
    "              [-3,  5,  1],\n",
    "              [ 3,  1, 10]])\n",
    "\n"
   ]
  }
 ],
 "metadata": {
  "kernelspec": {
   "display_name": "Python 3",
   "language": "python",
   "name": "python3"
  },
  "language_info": {
   "codemirror_mode": {
    "name": "ipython",
    "version": 3
   },
   "file_extension": ".py",
   "mimetype": "text/x-python",
   "name": "python",
   "nbconvert_exporter": "python",
   "pygments_lexer": "ipython3",
   "version": "3.6.8"
  }
 },
 "nbformat": 4,
 "nbformat_minor": 4
}
