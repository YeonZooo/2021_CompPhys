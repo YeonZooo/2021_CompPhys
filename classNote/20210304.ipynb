{
 "cells": [
  {
   "cell_type": "code",
   "execution_count": null,
   "metadata": {},
   "outputs": [],
   "source": [
    "# 파이썬 참고 사이트.\n",
    "# 벡터, 행렬연산.\n",
    "# 연립방정식 풀이, 가우스 소거법.\n",
    "\n",
    "'''\n",
    "www.python.org\n",
    "www.scipy.org\n",
    "www.numpy.org\n",
    "'''\n"
   ]
  },
  {
   "cell_type": "code",
   "execution_count": null,
   "metadata": {},
   "outputs": [],
   "source": [
    "def func(x,y):\n",
    "    return x+y\n",
    "\n",
    "a = lambda x, y: x + y\n",
    "\n",
    "a(1,2) == func(1,2)"
   ]
  },
  {
   "cell_type": "code",
   "execution_count": 3,
   "metadata": {},
   "outputs": [],
   "source": [
    "import numpy as np\n",
    "import matplotlib.pyplot as plt\n",
    "import scipy\n",
    "from numpy import sin, cos, exp"
   ]
  },
  {
   "cell_type": "code",
   "execution_count": 4,
   "metadata": {},
   "outputs": [
    {
     "data": {
      "text/plain": [
       "(-2.0, 2.0)"
      ]
     },
     "execution_count": 4,
     "metadata": {},
     "output_type": "execute_result"
    },
    {
     "data": {
      "image/png": "[encoded data removed]",
      "text/plain": [
       "<Figure size 432x288 with 1 Axes>"
      ]
     },
     "metadata": {
      "needs_background": "light"
     },
     "output_type": "display_data"
    }
   ],
   "source": [
    "ex = np.array([1,0])\n",
    "ey = np.array([0,1])\n",
    "\n",
    "plt.arrow(0,0,ex[0],ex[1],head_width=0.2,color='b')\n",
    "plt.arrow(0,0,ey[0],ey[1],head_width=0.2,color='r')\n",
    "plt.xlim(-2,2)\n",
    "plt.ylim(-2,2)"
   ]
  },
  {
   "cell_type": "code",
   "execution_count": 5,
   "metadata": {},
   "outputs": [
    {
     "data": {
      "image/png": "[encoded data removed]",
      "text/plain": [
       "<Figure size 432x288 with 1 Axes>"
      ]
     },
     "metadata": {
      "needs_background": "light"
     },
     "output_type": "display_data"
    }
   ],
   "source": [
    "# alpha 라는 매개변수를 바꾸고 단위 벡터를 사용하여 일직선을 생성합시다.\n",
    "# alpha = 0 -> (0,1)\n",
    "# alpha = 1 -> (1,1)\n",
    "# alpha = 2 -> (2,1)\n",
    "# 그리고 이 벡터를 arrow command 를 써서 그립니다.\n",
    "\n",
    "u = np.array([1,1])\n",
    "for alpha in np.arange(-1,1,0.2):\n",
    "    A = np.array([[1,alpha],\n",
    "                  [0,alpha]])\n",
    "    \n",
    "    v = np.dot(A,u)\n",
    "    \n",
    "    plt.arrow(0,0,v[0],v[1],head_width=0.1,color='r')\n",
    "    \n",
    "plt.xlim(-2,2)\n",
    "plt.ylim(-2,2)\n",
    "plt.show()\n"
   ]
  },
  {
   "cell_type": "code",
   "execution_count": 6,
   "metadata": {},
   "outputs": [],
   "source": [
    "# A = [[1, alpha],\n",
    "#      [0, alpha]]\n",
    "# 이 연산자를 u = [1 1] 에 적용했을때 생성되는 벡터들을 그려라\n"
   ]
  },
  {
   "cell_type": "code",
   "execution_count": 7,
   "metadata": {},
   "outputs": [],
   "source": [
    "# A*xvec = bvec\n",
    "# Linear operator A*(a*xvec + b*yvec) = a*A*xvec + b*A*yvec\n"
   ]
  },
  {
   "cell_type": "raw",
   "metadata": {},
   "source": [
    "# A = np.array([[1,2],\n",
    "#              [0,3]])\n",
    "# b = np.array([5,4])\n",
    "\n",
    "# A*x = b 를 성립하는 x 를 찾으시오.\n",
    "# 가) 역행렬 linalg.inv\n",
    "# 나)      linalg.solve 를 사용하시오.\n",
    "# 다) 소거법을 사용하시오.\n",
    "\n",
    "# A^{-1}*A"
   ]
  },
  {
   "cell_type": "code",
   "execution_count": 28,
   "metadata": {},
   "outputs": [
    {
     "name": "stdout",
     "output_type": "stream",
     "text": [
      "x = [2.33333333 1.33333333]\n"
     ]
    }
   ],
   "source": [
    "# 가) A*x = b -> Ainv*A*x = x =  Ainv*b\n",
    "\n",
    "A = np.array([[1,2],\n",
    "             [0,3]])\n",
    "b = np.array([5,4])\n",
    "\n",
    "Ainv = np.linalg.inv(A)\n",
    "\n",
    "x = np.dot(Ainv,b)\n",
    "\n",
    "print(f'x = {x}')"
   ]
  },
  {
   "cell_type": "code",
   "execution_count": 29,
   "metadata": {},
   "outputs": [
    {
     "name": "stdout",
     "output_type": "stream",
     "text": [
      "x = [2.33333333 1.33333333]\n"
     ]
    }
   ],
   "source": [
    "# 나) \n",
    "\n",
    "A = np.array([[1,2],\n",
    "             [0,3]])\n",
    "b = np.array([5,4])\n",
    "\n",
    "x = np.linalg.solve(A,b)\n",
    "\n",
    "print(f'x = {x}')"
   ]
  },
  {
   "cell_type": "markdown",
   "metadata": {},
   "source": [
    "1)\n",
    "행인 A와 B가 1차원 선상에서 등가속운동을 하고있다. A와 B는 서로 100m 떨어져 있으며 속력 $v_0$ = 0 m/s 로 출발한다. A는 가속도 $a_1$, B는 가속도 $a_2$로 걷는다고 가정하자. 두 사람이 반대 방향으로 걸을 떄는 두 사람이 만날 때까지 30초가 걸리며, 두 사람이 같은 방향으로 걸을 떄는 90초가 걸린다. $a_1$과 $a_2$를 구하는 script를 만들어라."
   ]
  },
  {
   "cell_type": "code",
   "execution_count": 30,
   "metadata": {},
   "outputs": [],
   "source": [
    "# 연립방정식 풀이\n",
    "\n",
    "# a11*x1 + a12*x2 = b1\n",
    "# a21*x1 + a22*x2 = b2\n",
    "\n",
    "# a11 + a12\n",
    "# a21 + a22"
   ]
  },
  {
   "cell_type": "markdown",
   "metadata": {},
   "source": [
    "1)\n",
    "\n",
    "x_A = a1*t^2/2\n",
    "x_B = 100 - a2*t^2/2\n",
    "\n",
    "x_A = x_B -> x1*t_1^2/2 = 100 - x2*t_1^2/2 ; t_1 = 30\n",
    "             x1*t_2^2/2 = 100 + x2*t_2^2/2 ; t_2 = 90\n",
    "\n",
    "x1*t_1^2/2 + a2*t_1^2/2 = 100 \n",
    "x1*t_2^2/2 - a2*t_2^2/2 = 100"
   ]
  },
  {
   "cell_type": "code",
   "execution_count": 38,
   "metadata": {},
   "outputs": [
    {
     "name": "stdout",
     "output_type": "stream",
     "text": [
      "a1 = 0.123 m/s\n",
      "a2 = 0.099 m/s\n"
     ]
    }
   ],
   "source": [
    "t1 = 30\n",
    "t2 = 90\n",
    "\n",
    "A = np.array([[t1**2/2, t1**2/2],\n",
    "              [t2**2/2, -t2**2/2]])\n",
    "\n",
    "b = np.array([100,100])\n",
    "\n",
    "x = np.linalg.solve(A,b)\n",
    "\n",
    "print(f'a1 = {round(x[0],3)} m/s\\na2 = {round(x[1],3)} m/s')"
   ]
  },
  {
   "cell_type": "markdown",
   "metadata": {},
   "source": [
    "2) A와 B행인이 등속 운동을 하고 있다. 서로의 초기 거리는 100m이다. 서로 반대 방향을 걸을때 걸리는 시간은 5초가 , 서로 같은 방향으로 걸을때 걸리는 시간은 15초가 걸린다. A와 B의 속도를 찾으시오."
   ]
  },
  {
   "cell_type": "code",
   "execution_count": 43,
   "metadata": {},
   "outputs": [
    {
     "name": "stdout",
     "output_type": "stream",
     "text": [
      "v_a = 13.333 m/s\n",
      "v_b = 6.667 m/s\n"
     ]
    }
   ],
   "source": [
    "t1 = 5\n",
    "t2 = 15\n",
    "\n",
    "A = np.array([[t1, t1],\n",
    "              [t2, -t2]])\n",
    "\n",
    "b = np.array([100,100])\n",
    "\n",
    "x = np.linalg.solve(A,b)\n",
    "\n",
    "print(f'v_a = {round(x[0],3)} m/s\\nv_b = {round(x[1],3)} m/s')"
   ]
  },
  {
   "cell_type": "markdown",
   "metadata": {},
   "source": [
    "# Gaussian elimination"
   ]
  },
  {
   "cell_type": "markdown",
   "metadata": {},
   "source": [
    "$A_ij$ -> $A_ij - \\lambda * A_kj$, j = k, k+1, ..., n\n",
    "\n",
    "$a_{21} - \\lambda * a_{11} = 0 -> \\lambda = a_{21}/a_{11}$"
   ]
  },
  {
   "cell_type": "code",
   "execution_count": null,
   "metadata": {},
   "outputs": [],
   "source": [
    "lam = a[]\n",
    "# (i,j) (행,열)\n",
    "# Loop in j  열을 스캔\n",
    "# Loop in i  행을 스캔\n",
    "\n",
    "# 소거를 해야하는 열 범위 1,n-1\n",
    "\n",
    "\n",
    "for j in range(0,n-1):\n",
    "    "
   ]
  }
 ],
 "metadata": {
  "kernelspec": {
   "display_name": "Python 3",
   "language": "python",
   "name": "python3"
  },
  "language_info": {
   "codemirror_mode": {
    "name": "ipython",
    "version": 3
   },
   "file_extension": ".py",
   "mimetype": "text/x-python",
   "name": "python",
   "nbconvert_exporter": "python",
   "pygments_lexer": "ipython3",
   "version": "3.6.8"
  }
 },
 "nbformat": 4,
 "nbformat_minor": 4
}
