{
 "cells": [
  {
   "cell_type": "code",
   "execution_count": 1,
   "metadata": {},
   "outputs": [],
   "source": [
    "# 응용문제\n",
    "# 삼중대각 계수행렬\n",
    "### 오중대각 대칭행렬, 피보팅.\n",
    "# 응용문제\n"
   ]
  },
  {
   "cell_type": "code",
   "execution_count": 2,
   "metadata": {},
   "outputs": [
    {
     "name": "stdout",
     "output_type": "stream",
     "text": [
      "linalg.solve:\n",
      " [[3.5       ]\n",
      " [0.66666667]\n",
      " [0.16666667]]\n",
      "\n",
      "LUsolve:\n",
      " [[3.5       ]\n",
      " [0.66666667]\n",
      " [0.16666667]]\n",
      "\n",
      "scipy.linalg.lu_solve:\n",
      " [[3.5       ]\n",
      " [0.66666667]\n",
      " [0.16666667]]\n"
     ]
    }
   ],
   "source": [
    "# 1\n",
    "\n",
    "import numpy as np\n",
    "A = np.array([[3.,-3.,3.],[-3.,5.,1.],[3.,1.,5.]])\n",
    "B = np.array([[9.],[-7.],[12.]])\n",
    "print(\"linalg.solve:\\n\",np.linalg.solve(A.copy(),B.copy()))\n",
    "\n",
    "from ch2 import *\n",
    "LU = LUdecomp(A.copy())\n",
    "x = LUsolve(LU,B.copy())\n",
    "print(\"\\nLUsolve:\\n\",x)\n",
    "\n",
    "from scipy.linalg import lu_factor, lu_solve\n",
    "lu, piv = lu_factor(A.copy())\n",
    "x = lu_solve((lu,piv),B.copy())\n",
    "print(\"\\nscipy.linalg.lu_solve:\\n\",x)"
   ]
  },
  {
   "cell_type": "code",
   "execution_count": 3,
   "metadata": {},
   "outputs": [
    {
     "name": "stdout",
     "output_type": "stream",
     "text": [
      "[[-3.]\n",
      " [ 2.]\n",
      " [ 1.]]\n"
     ]
    }
   ],
   "source": [
    "# 2\n",
    "\n",
    "A = np.array([[  4.,  8.,  20.],\n",
    "              [  8., 13.,  16.],\n",
    "              [ 20., 16., -91.]])\n",
    "B = np.array([[   24.],\n",
    "              [   18.],\n",
    "              [ -119]])\n",
    "\n",
    "LU = LUdecomp(A.copy())\n",
    "x = LUsolve(LU,B.copy())\n",
    "print(x)"
   ]
  },
  {
   "cell_type": "code",
   "execution_count": 4,
   "metadata": {},
   "outputs": [],
   "source": [
    "# Sparse matrix"
   ]
  },
  {
   "cell_type": "code",
   "execution_count": 5,
   "metadata": {},
   "outputs": [
    {
     "data": {
      "text/plain": [
       "array([1.        , 0.96428571, 1.        ])"
      ]
     },
     "execution_count": 5,
     "metadata": {},
     "output_type": "execute_result"
    }
   ],
   "source": [
    "n = 3\n",
    "c = np.ones(n-1)\n",
    "e = 2*np.ones(n-1)\n",
    "d = 4*np.ones(n)\n",
    "b = np.ones(n)\n",
    "\n",
    "D = np.diag(d)\n",
    "E = np.diag(e,k=1)\n",
    "C = np.diag(c,k=-1)\n",
    "\n",
    "A = C + E + D\n",
    "\n",
    "dp = np.zeros(n)\n",
    "cp = np.zeros(n-1)\n",
    "y = np.zeros(n)\n",
    "x = np.zeros(n)\n",
    "\n",
    "for k in range(1,n):\n",
    "    lam = c[k-1]/d[k-1]\n",
    "    dp[k] = d[k] - lam*e[k-1]\n",
    "    cp[k-1] = lam\n",
    "    \n",
    "# 전진대입\n",
    "y[0] = b[0]\n",
    "for k in range(1,n):\n",
    "    y[k] = b[k] - cp[k-1]*y[k-1]\n",
    "\n",
    "# 후진대입\n",
    "x[n-1] = y[n-1]/dp[n-1]\n",
    "for k in range(n-2,-1,-1):\n",
    "    x[k] = (y[k] - e[k]*x[k+1])/d[k]\n",
    "    \n",
    "A@x"
   ]
  },
  {
   "cell_type": "code",
   "execution_count": 6,
   "metadata": {},
   "outputs": [
    {
     "data": {
      "text/plain": [
       "array([1., 1., 1., 1., 1.])"
      ]
     },
     "execution_count": 6,
     "metadata": {},
     "output_type": "execute_result"
    }
   ],
   "source": [
    "# [2,1,0,0,0]\n",
    "# [1,2,1,0,0]\n",
    "# [0,1,2,1,0]\n",
    "# [0,0,1,2,1]\n",
    "# [0,0,0,1,2]\n",
    "\n",
    "# b= [1,1,1,1,1]\n",
    "\n",
    "# Solve using tridiagonal matrix solver:\n",
    "# Find U, L, x\n",
    "# In A*x = b\n",
    "\n",
    "n = 5\n",
    "A = 2*np.eye(n) + np.eye(n,k=-1) + np.eye(n,k=1)\n",
    "b = np.ones(n)\n",
    "\n",
    "def LU(a,b):\n",
    "    L = np.eye(len(b))\n",
    "    x = np.zeros(b.shape)\n",
    "    y = np.zeros(b.shape)\n",
    "    n = len(x)\n",
    "    for k in range(0,n-1):\n",
    "        for i in range(k+1,n):\n",
    "            if a[i,k] != 0.0:\n",
    "                lam = a[i,k]/a[k,k]\n",
    "                a[i] = a[i] - lam*a[k]\n",
    "                L[i,k] = lam\n",
    "    \n",
    "    U = a.copy()\n",
    "    for k in range(0,n):    # Forward substitutution\n",
    "        y[k] = b[k] - np.dot(L[k,:k],y[:k])\n",
    "    \n",
    "    for k in range(n-1,-1,-1):    # Backward substitutution\n",
    "        x[k] = (y[k] - np.dot(U[k,k+1:n],x[k+1:n]))/U[k,k]\n",
    "    \n",
    "    return x\n",
    "\n",
    "A@LU(A.copy(),b)"
   ]
  },
  {
   "cell_type": "code",
   "execution_count": 7,
   "metadata": {},
   "outputs": [
    {
     "data": {
      "text/plain": [
       "array([[2., 1., 0., 0., 0.],\n",
       "       [1., 2., 1., 0., 0.],\n",
       "       [0., 1., 2., 1., 0.],\n",
       "       [0., 0., 1., 2., 1.],\n",
       "       [0., 0., 0., 1., 2.]])"
      ]
     },
     "execution_count": 7,
     "metadata": {},
     "output_type": "execute_result"
    }
   ],
   "source": [
    "n = 5\n",
    "c = np.ones(n-1)\n",
    "d = 2*np.ones(n)\n",
    "e = np.ones(n-1)\n",
    "\n",
    "b = np.ones(n)\n",
    "\n",
    "cc,dd,ee = LUdecomp3(c,d,e)\n",
    "LUsolve3(cc,dd,ee,b)\n",
    "\n",
    "cmat = np.diag(cc,k=-1)\n",
    "dmat = np.diag(dd)\n",
    "emat = np.diag(ee,k=1)\n",
    "\n",
    "L = cmat + np.eye(5)\n",
    "U = dmat + emat\n",
    "\n",
    "L@U"
   ]
  },
  {
   "cell_type": "code",
   "execution_count": 8,
   "metadata": {},
   "outputs": [
    {
     "data": {
      "text/plain": [
       "array([[ 2, -2,  0,  0,  0],\n",
       "       [-2,  5, -6,  0,  0],\n",
       "       [ 0, -6, 16, 12,  0],\n",
       "       [ 0,  0, 12, 39, -6],\n",
       "       [ 0,  0,  0, -6, 14]])"
      ]
     },
     "execution_count": 8,
     "metadata": {},
     "output_type": "execute_result"
    }
   ],
   "source": [
    "c = np.array([-2,-6,12,-6])\n",
    "d = np.array([2,5,16,39,14])\n",
    "e = np.array([-2,-6,12,-6])\n",
    "\n",
    "D = np.diag(d)\n",
    "E = np.diag(e,k=1)\n",
    "C = np.diag(c,k=-1)\n",
    "\n",
    "A = C + E + D\n",
    "\n",
    "A"
   ]
  },
  {
   "cell_type": "code",
   "execution_count": null,
   "metadata": {},
   "outputs": [],
   "source": []
  }
 ],
 "metadata": {
  "kernelspec": {
   "display_name": "Python 3",
   "language": "python",
   "name": "python3"
  },
  "language_info": {
   "codemirror_mode": {
    "name": "ipython",
    "version": 3
   },
   "file_extension": ".py",
   "mimetype": "text/x-python",
   "name": "python",
   "nbconvert_exporter": "python",
   "pygments_lexer": "ipython3",
   "version": "3.6.8"
  }
 },
 "nbformat": 4,
 "nbformat_minor": 4
}
