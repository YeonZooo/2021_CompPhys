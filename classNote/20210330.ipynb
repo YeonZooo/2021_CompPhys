{
 "cells": [
  {
   "cell_type": "code",
   "execution_count": 1,
   "metadata": {},
   "outputs": [],
   "source": [
    "# 역행렬 복습.\n",
    "# 반복 방법. Interative mathod\n",
    "# 공액경사법. Conjugate gradient method"
   ]
  },
  {
   "cell_type": "markdown",
   "metadata": {},
   "source": [
    "A@x = B\n",
    "\n",
    "X becomes the inverse matrix when\n",
    "\n",
    "A@X =B"
   ]
  },
  {
   "cell_type": "code",
   "execution_count": 2,
   "metadata": {},
   "outputs": [],
   "source": [
    "import numpy as np\n",
    "\n",
    "A = np.array([[  0.6, -0.4,  1.0],\n",
    "              [ -0.3,  0.2,  0.5],\n",
    "              [  0.6, -1.0,  0.5]])\n",
    "\n",
    "B = np.eye(3)  # or np.identity(3)"
   ]
  },
  {
   "cell_type": "code",
   "execution_count": 3,
   "metadata": {},
   "outputs": [
    {
     "data": {
      "text/plain": [
       "array([[ 1., -0., -0.],\n",
       "       [ 0.,  1.,  0.],\n",
       "       [ 0., -0.,  1.]])"
      ]
     },
     "execution_count": 3,
     "metadata": {},
     "output_type": "execute_result"
    }
   ],
   "source": [
    "from ch2 import *\n",
    "\n",
    "LU, seq = LUdecompp(A.copy())\n",
    "x0 = LUsolvee(LU,B.copy()[:,0],seq)\n",
    "x1 = LUsolvee(LU,B.copy()[:,1],seq)\n",
    "x2 = LUsolvee(LU,B.copy()[:,2],seq)\n",
    "\n",
    "x = np.array([x0,x1,x2]).T\n",
    "\n",
    "np.around(A@x,decimals=2)"
   ]
  },
  {
   "cell_type": "code",
   "execution_count": 4,
   "metadata": {},
   "outputs": [
    {
     "data": {
      "text/plain": [
       "array([[ 1., -0., -0.],\n",
       "       [ 0.,  1.,  0.],\n",
       "       [ 0., -0.,  1.]])"
      ]
     },
     "execution_count": 4,
     "metadata": {},
     "output_type": "execute_result"
    }
   ],
   "source": [
    "n = len(A)\n",
    "LU, seq = LUdecompp(A.copy())\n",
    "x = np.zeros((n,n))\n",
    "\n",
    "for i in range(n):\n",
    "    x[:,i] = LUsolvee(LU,B.copy()[:,i],seq)\n",
    "    \n",
    "np.around(A@x,decimals=2)"
   ]
  },
  {
   "cell_type": "code",
   "execution_count": 5,
   "metadata": {},
   "outputs": [
    {
     "data": {
      "text/plain": [
       "array([[ 1., -0., -0.],\n",
       "       [ 0.,  1.,  0.],\n",
       "       [ 0., -0.,  1.]])"
      ]
     },
     "execution_count": 5,
     "metadata": {},
     "output_type": "execute_result"
    }
   ],
   "source": [
    "def inverse(A):\n",
    "    n = len(A)\n",
    "    B = np.eye(n)\n",
    "    LU, seq = LUdecompp(A.copy())\n",
    "    X = np.zeros((n,n))\n",
    "\n",
    "    for i in range(n):\n",
    "        X[:,i] = LUsolvee(LU,B.copy()[:,i],seq)\n",
    "        \n",
    "    return X\n",
    "\n",
    "np.around(A@inverse(A),decimals=2)"
   ]
  },
  {
   "cell_type": "code",
   "execution_count": 6,
   "metadata": {},
   "outputs": [
    {
     "name": "stdout",
     "output_type": "stream",
     "text": [
      "X\n",
      "[[0.84 0.68 0.52 0.36 0.2  0.04]\n",
      " [0.68 1.36 1.04 0.72 0.4  0.08]\n",
      " [0.52 1.04 1.56 1.08 0.6  0.12]\n",
      " [0.36 0.72 1.08 1.44 0.8  0.16]\n",
      " [0.2  0.4  0.6  0.8  1.   0.2 ]\n",
      " [0.04 0.08 0.12 0.16 0.2  0.24]]\n",
      "\n",
      "A@X\n",
      "[[ 1.  0.  0.  0.  0.  0.]\n",
      " [ 0.  1. -0.  0.  0.  0.]\n",
      " [-0. -0.  1.  0.  0. -0.]\n",
      " [ 0.  0. -0.  1.  0.  0.]\n",
      " [-0. -0.  0.  0.  1.  0.]\n",
      " [-0. -0.  0. -0. -0.  1.]]\n",
      "\n",
      "\n"
     ]
    }
   ],
   "source": [
    "# LUdecomp3, LUsolve3\n",
    "\n",
    "n = 6\n",
    "c = -1*np.ones(n-1)\n",
    "d = 2*np.ones(n); d[-1] = 5.\n",
    "e = -1*np.ones(n-1)\n",
    "\n",
    "A = np.diag(c,k=-1) + np.diag(d,k=0) + np.diag(e,k=1)\n",
    "\n",
    "LUdecomp3(c,d,e)\n",
    "ans = LUsolve3(c,d,e,np.eye(n))\n",
    "\n",
    "print(f\"\"\"X\n",
    "{ans}\n",
    "\n",
    "A@X\n",
    "{np.around(A@ans,decimals=2)}\n",
    "\n",
    "\"\"\")"
   ]
  },
  {
   "cell_type": "code",
   "execution_count": 7,
   "metadata": {},
   "outputs": [],
   "source": [
    "# Interative mathod"
   ]
  },
  {
   "cell_type": "code",
   "execution_count": 8,
   "metadata": {},
   "outputs": [
    {
     "data": {
      "text/plain": [
       "array([3., 1., 1.])"
      ]
     },
     "execution_count": 8,
     "metadata": {},
     "output_type": "execute_result"
    }
   ],
   "source": [
    "x = np.zeros(3)\n",
    "\n",
    "A = np.array([[4.,-1.,1.],[-1.,4.,-2.],[1.,-2.,4.]])\n",
    "b = np.array([12.,-1.,5.])\n",
    "\n",
    "np.linalg.solve(A,b)"
   ]
  },
  {
   "cell_type": "code",
   "execution_count": 9,
   "metadata": {},
   "outputs": [
    {
     "data": {
      "text/plain": [
       "array([3.  , 0.5 , 0.75])"
      ]
     },
     "execution_count": 9,
     "metadata": {},
     "output_type": "execute_result"
    }
   ],
   "source": [
    "x[0] = (1/A[0,0]) * (b[0] - (A[0,1] * x[1] + A[0,2] * x[2]))\n",
    "x[1] = (1/A[1,1]) * (b[1] - (A[1,0] * x[0] + A[1,2] * x[2]))\n",
    "x[2] = (1/A[2,2]) * (b[2] - (A[2,0] * x[0] + A[2,1] * x[1]))\n",
    "\n",
    "x"
   ]
  },
  {
   "cell_type": "code",
   "execution_count": 10,
   "metadata": {},
   "outputs": [
    {
     "data": {
      "text/plain": [
       "array([ 5.5,  2. , -0.5])"
      ]
     },
     "execution_count": 10,
     "metadata": {},
     "output_type": "execute_result"
    }
   ],
   "source": [
    "x = np.array([5.5,2.,-0.5])\n",
    "\n",
    "A = np.array([[ 3.,-3., 3],\n",
    "              [-3., 5., 1.],\n",
    "              [ 3.,-1., 5.]])\n",
    "\n",
    "b = np.array([9.,-7.,12.])\n",
    "\n",
    "np.linalg.solve(A,b)"
   ]
  },
  {
   "cell_type": "code",
   "execution_count": 11,
   "metadata": {},
   "outputs": [
    {
     "data": {
      "text/plain": [
       "array([ 5.5,  2. , -0.5])"
      ]
     },
     "execution_count": 11,
     "metadata": {},
     "output_type": "execute_result"
    }
   ],
   "source": [
    "x[0] = (  9. - ((-3.) * x[1] +   3. * x[2]))/3.\n",
    "x[1] = (- 7. - ((-3.) * x[0] +   1. * x[2]))/5.\n",
    "x[2] = ( 12. - (( 3.) * x[0] + (-1.) * x[1]))/5.\n",
    "\n",
    "x"
   ]
  },
  {
   "cell_type": "code",
   "execution_count": 12,
   "metadata": {},
   "outputs": [],
   "source": [
    "# Conjugate gradient method"
   ]
  },
  {
   "cell_type": "code",
   "execution_count": 13,
   "metadata": {},
   "outputs": [],
   "source": [
    "x = np.zeros(3)\n",
    "\n",
    "A = np.array([[4.,-1.,1.],[-1.,4.,-2.],[1.,-2.,4.]])\n",
    "b = np.array([12.,-1.,5.])"
   ]
  },
  {
   "cell_type": "code",
   "execution_count": 14,
   "metadata": {},
   "outputs": [
    {
     "name": "stdout",
     "output_type": "stream",
     "text": [
      "[ 2.41706161 -0.2014218   1.007109  ]\n",
      "[3.07752283 0.79483181 0.71998218]\n",
      "[3. 1. 1.]\n"
     ]
    }
   ],
   "source": [
    "x0 = x.copy()\n",
    "\n",
    "# First iteration\n",
    "r0 = b - A@x0    # Residual, 차이\n",
    "s0 = r0.copy()    # 탐색 방향 벡터, search direction\n",
    "a0 = s0@r0 / (s0@A@s0)    # Scaling factor\n",
    "# Update x\n",
    "x1 = x0 + a0*s0\n",
    "print(x1)\n",
    "\n",
    "# Second iteration\n",
    "r1 = b - A@x1    # new residual\n",
    "b0 = -r1@A@s0 / (s0@A@s0)    # search direction factor\n",
    "s1 = r1 + b0*s0    # new search direction\n",
    "a1 = s1@r1 / (s1@A@s1)    # scaling factor\n",
    "# Update x\n",
    "x2 = x1 + a1*s1\n",
    "print(x2)\n",
    "\n",
    "# Third iteration\n",
    "r2 = b - A@x2    # new residual\n",
    "b1 = -r2@A@s1 / (s1@A@s1)    # search direction factor\n",
    "s2 = r2 + b1*s1    # new search direction\n",
    "a2 = s2@r2 / (s2@A@s2)    # scaling factor\n",
    "# Update x\n",
    "x3 = x2 + a2*s2\n",
    "print(x3)"
   ]
  },
  {
   "cell_type": "code",
   "execution_count": 15,
   "metadata": {},
   "outputs": [
    {
     "name": "stdout",
     "output_type": "stream",
     "text": [
      "[3.5        0.66666667 0.16666667]\n"
     ]
    }
   ],
   "source": [
    "x = np.zeros(3)\n",
    "\n",
    "A = np.array([[ 3.,-3., 3],\n",
    "              [-3., 5., 1.],\n",
    "              [ 3., 1., 5.]])\n",
    "\n",
    "b = np.array([9.,-7.,12.])\n",
    "\n",
    "print(np.linalg.solve(A,b))"
   ]
  },
  {
   "cell_type": "code",
   "execution_count": 16,
   "metadata": {},
   "outputs": [
    {
     "name": "stdout",
     "output_type": "stream",
     "text": [
      "[ 1.19361084 -0.92836399  1.59148112]\n",
      "[ 18.34439265   3.8788959  -13.41230235]\n",
      "[3.5        0.66666667 0.16666667]\n"
     ]
    }
   ],
   "source": [
    "x0 = x.copy()\n",
    "\n",
    "# First iteration\n",
    "r0 = b - A@x0    # Residual, 차이\n",
    "s0 = r0.copy()    # 탐색 방향 벡터, search direction\n",
    "a0 = s0@r0 / (s0@A@s0)    # Scaling factor\n",
    "# Update x\n",
    "x1 = x0 + a0*s0\n",
    "print(x1)\n",
    "\n",
    "# Second iteration\n",
    "r1 = b - A@x1    # new residual\n",
    "b0 = -r1@A@s0 / (s0@A@s0)    # search direction factor\n",
    "s1 = r1 + b0*s0    # new search direction\n",
    "a1 = s1@r1 / (s1@A@s1)    # scaling factor\n",
    "# Update x\n",
    "x2 = x1 + a1*s1\n",
    "print(x2)\n",
    "\n",
    "# Third iteration\n",
    "r2 = b - A@x2    # new residual\n",
    "b1 = -r2@A@s1 / (s1@A@s1)    # search direction factor\n",
    "s2 = r2 + b1*s1    # new search direction\n",
    "a2 = s2@r2 / (s2@A@s2)    # scaling factor\n",
    "# Update x\n",
    "x3 = x2 + a2*s2\n",
    "print(x3)"
   ]
  },
  {
   "cell_type": "code",
   "execution_count": 17,
   "metadata": {},
   "outputs": [
    {
     "data": {
      "text/plain": [
       "(array([3.5       , 0.66666667, 0.16666667]), 2)"
      ]
     },
     "execution_count": 17,
     "metadata": {},
     "output_type": "execute_result"
    }
   ],
   "source": [
    "def Av(v):\n",
    "    return A@v\n",
    "\n",
    "x0 = np.zeros(3)\n",
    "conjGrad(Av,x0,b)"
   ]
  },
  {
   "cell_type": "code",
   "execution_count": null,
   "metadata": {},
   "outputs": [],
   "source": []
  }
 ],
 "metadata": {
  "kernelspec": {
   "display_name": "Python 3",
   "language": "python",
   "name": "python3"
  },
  "language_info": {
   "codemirror_mode": {
    "name": "ipython",
    "version": 3
   },
   "file_extension": ".py",
   "mimetype": "text/x-python",
   "name": "python",
   "nbconvert_exporter": "python",
   "pygments_lexer": "ipython3",
   "version": "3.6.8"
  }
 },
 "nbformat": 4,
 "nbformat_minor": 4
}
