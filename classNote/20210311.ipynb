{
 "cells": [
  {
   "cell_type": "code",
   "execution_count": 2,
   "metadata": {},
   "outputs": [
    {
     "data": {
      "text/plain": [
       "array([[4., 3.],\n",
       "       [6., 3.]])"
      ]
     },
     "execution_count": 2,
     "metadata": {},
     "output_type": "execute_result"
    }
   ],
   "source": [
    "# example\n",
    "'''\n",
    "A = [4 3]\n",
    "    [6 3]\n",
    "    \n",
    "L = [ 1  0]\n",
    "    [L21 1]\n",
    "    \n",
    "U = [U11 U12]\n",
    "    [ 0  U22]\n",
    "    \n",
    "A = [ U11        U12     ]\n",
    "    [U11L21  L21U12 + U22]\n",
    "    \n",
    "U11 = 4\n",
    "U12 = 3\n",
    "4*L21 = 6\n",
    "L21 = 6/4\n",
    "6/4*3 + U22 = 3\n",
    "U22 = -3/2\n",
    "'''\n",
    "import numpy as np\n",
    "\n",
    "L = np.array([[1,0],[6/4,1]])\n",
    "U = np.array([[4,3],[0,-3/2]])\n",
    "\n",
    "L@U "
   ]
  },
  {
   "cell_type": "code",
   "execution_count": 3,
   "metadata": {},
   "outputs": [
    {
     "data": {
      "text/plain": [
       "array([[ 1.,  4.,  1.],\n",
       "       [ 1.,  6.,  1.],\n",
       "       [ 2., -1.,  2.]])"
      ]
     },
     "execution_count": 3,
     "metadata": {},
     "output_type": "execute_result"
    }
   ],
   "source": [
    "# 실습문제 1\n",
    "# 다음 A를 LU분해 하고 L@U가 A가 되는지 확인하시오.\n",
    "\n",
    "# scipy.linalg.lu()\n",
    "\n",
    "\"\"\"\n",
    "A = [1  4 1]\n",
    "    [1  6 1]\n",
    "    [2 -1 2]\n",
    "\"\"\"\n",
    "\n",
    "A = np.array([[1,4,1],[1,6,1],[2,-1,2]])\n",
    "\n",
    "L = np.eye(3)\n",
    "U = np.zeros((3,3))\n",
    "\n",
    "U[0] = A[0].copy()\n",
    "L[1:,0] = (A[1:,0]/U[0,0]).copy()\n",
    "U[1,1:] = (A[1,1:]-U[0,1:]*L[1,0]).copy()\n",
    "L[2,1] = ((A[2,1]-U[0,1]*L[2,0])/U[1,1]).copy()\n",
    "U[2,2] = (A[2,2]-np.dot(U[:2,2],L[2,:2])).copy()\n",
    "\n",
    "L@U"
   ]
  },
  {
   "cell_type": "code",
   "execution_count": 45,
   "metadata": {},
   "outputs": [],
   "source": [
    "from scipy.linalg import lu"
   ]
  },
  {
   "cell_type": "code",
   "execution_count": 46,
   "metadata": {},
   "outputs": [
    {
     "data": {
      "text/plain": [
       "(array([[0., 0., 1.],\n",
       "        [0., 1., 0.],\n",
       "        [1., 0., 0.]]), array([[1.        , 0.        , 0.        ],\n",
       "        [0.5       , 1.        , 0.        ],\n",
       "        [0.5       , 0.69230769, 1.        ]]), array([[ 2. , -1. ,  2. ],\n",
       "        [ 0. ,  6.5,  0. ],\n",
       "        [ 0. ,  0. ,  0. ]]))"
      ]
     },
     "execution_count": 46,
     "metadata": {},
     "output_type": "execute_result"
    }
   ],
   "source": [
    "lu(A)[0]\n",
    "lu(A)[1]\n"
   ]
  },
  {
   "cell_type": "code",
   "execution_count": 35,
   "metadata": {},
   "outputs": [
    {
     "data": {
      "text/plain": [
       "array([[ 1. ,  0. ,  0. ],\n",
       "       [ 1. ,  1. ,  0. ],\n",
       "       [ 2. , -1.5,  1. ]])"
      ]
     },
     "execution_count": 35,
     "metadata": {},
     "output_type": "execute_result"
    }
   ],
   "source": [
    "L"
   ]
  },
  {
   "cell_type": "code",
   "execution_count": 36,
   "metadata": {},
   "outputs": [
    {
     "data": {
      "text/plain": [
       "array([[1. , 4. , 1. ],\n",
       "       [0. , 6. , 1. ],\n",
       "       [0. , 0. , 1.5]])"
      ]
     },
     "execution_count": 36,
     "metadata": {},
     "output_type": "execute_result"
    }
   ],
   "source": [
    "U"
   ]
  },
  {
   "cell_type": "code",
   "execution_count": 37,
   "metadata": {},
   "outputs": [
    {
     "data": {
      "text/plain": [
       "array([1., 1.])"
      ]
     },
     "execution_count": 37,
     "metadata": {},
     "output_type": "execute_result"
    }
   ],
   "source": [
    "U[:2,2]"
   ]
  },
  {
   "cell_type": "code",
   "execution_count": 38,
   "metadata": {},
   "outputs": [
    {
     "data": {
      "text/plain": [
       "array([ 2. , -1.5])"
      ]
     },
     "execution_count": 38,
     "metadata": {},
     "output_type": "execute_result"
    }
   ],
   "source": []
  },
  {
   "cell_type": "code",
   "execution_count": null,
   "metadata": {},
   "outputs": [],
   "source": []
  }
 ],
 "metadata": {
  "kernelspec": {
   "display_name": "Python 3",
   "language": "python",
   "name": "python3"
  },
  "language_info": {
   "codemirror_mode": {
    "name": "ipython",
    "version": 3
   },
   "file_extension": ".py",
   "mimetype": "text/x-python",
   "name": "python",
   "nbconvert_exporter": "python",
   "pygments_lexer": "ipython3",
   "version": "3.6.8"
  }
 },
 "nbformat": 4,
 "nbformat_minor": 4
}
