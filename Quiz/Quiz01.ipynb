{
 "cells": [
  {
   "cell_type": "code",
   "execution_count": 1,
   "metadata": {},
   "outputs": [
    {
     "name": "stdout",
     "output_type": "stream",
     "text": [
      "shape of array: (1000, 1000)\n"
     ]
    },
    {
     "data": {
      "text/plain": [
       "array([[2, 3, 0, ..., 0, 0, 0],\n",
       "       [1, 2, 3, ..., 0, 0, 0],\n",
       "       [0, 1, 2, ..., 0, 0, 0],\n",
       "       ...,\n",
       "       [0, 0, 0, ..., 2, 3, 0],\n",
       "       [0, 0, 0, ..., 1, 2, 3],\n",
       "       [0, 0, 0, ..., 0, 1, 2]])"
      ]
     },
     "execution_count": 1,
     "metadata": {},
     "output_type": "execute_result"
    }
   ],
   "source": [
    "# 1\n",
    "\n",
    "import numpy as np\n",
    "\n",
    "arr  =     np.eye(1000,k=-1,dtype=int)\n",
    "arr += 2 * np.eye(1000,k= 0,dtype=int)\n",
    "arr += 3 * np.eye(1000,k= 1,dtype=int)\n",
    "\n",
    "print('shape of array:',arr.shape)\n",
    "\n",
    "arr"
   ]
  },
  {
   "cell_type": "code",
   "execution_count": 2,
   "metadata": {},
   "outputs": [
    {
     "name": "stdout",
     "output_type": "stream",
     "text": [
      "x = 8.0\n",
      "y = 1.0\n"
     ]
    }
   ],
   "source": [
    "# 2\n",
    "\n",
    "import numpy as np\n",
    "\n",
    "A = np.array([[1,2],[1,-3]])\n",
    "b = np.array([10,5])\n",
    "\n",
    "ans = np.linalg.solve(A,b)\n",
    "\n",
    "print(f'x = {ans[0]}\\ny = {ans[1]}')"
   ]
  },
  {
   "cell_type": "code",
   "execution_count": 3,
   "metadata": {},
   "outputs": [
    {
     "name": "stdout",
     "output_type": "stream",
     "text": [
      "s = 3.0666666666666664\n",
      "p = 1.3333333333333335\n",
      "d = -0.7333333333333334\n",
      "f = 0.6933333333333334\n",
      "g = 0.72\n"
     ]
    }
   ],
   "source": [
    "# 3\n",
    "\n",
    "import numpy as np\n",
    "\n",
    "# [s,p,d,f,g]\n",
    "\n",
    "A = np.array([[-1,-2,-1,0,0],\n",
    "              [-2,1,3,0,0],\n",
    "              [2,0,0,-1,-2],\n",
    "              [0,2,0,-2,1],\n",
    "              [0,0,2,-1,3]])\n",
    "b = np.array([-5,-7,4,2,0])\n",
    "\n",
    "ans = np.linalg.solve(A,b)\n",
    "\n",
    "print(f's = {ans[0]}\\np = {ans[1]}\\nd = {ans[2]}\\nf = {ans[3]}\\ng = {ans[4]}')"
   ]
  },
  {
   "cell_type": "code",
   "execution_count": 4,
   "metadata": {},
   "outputs": [
    {
     "name": "stdout",
     "output_type": "stream",
     "text": [
      "[0.93969262 0.34202014]\n"
     ]
    }
   ],
   "source": [
    "# 4\n",
    "\n",
    "import numpy as np\n",
    "from numpy import sin, cos, deg2rad\n",
    "\n",
    "theta = deg2rad(20.)\n",
    "\n",
    "mat = np.array([[ cos(theta), -sin(theta) ],\n",
    "                [ sin(theta),  cos(theta) ]])\n",
    "vec = np.array([1,0])\n",
    "\n",
    "print(np.dot(mat,vec))"
   ]
  },
  {
   "cell_type": "code",
   "execution_count": 5,
   "metadata": {},
   "outputs": [
    {
     "name": "stdout",
     "output_type": "stream",
     "text": [
      "v1 = [0.40650407 0.23364486 0.        ]\n",
      "v2 = [0.         0.46728972 0.        ]\n",
      "v3 = [0.  0.  0.1]\n",
      "\n"
     ]
    }
   ],
   "source": [
    "# 5\n",
    "\n",
    "# A = [[a1],[a2],[a3]]\n",
    "# V = [[v1],[v2],[v3]]\n",
    "# A * V.T = I\n",
    "# A_inv * A * V.T = V.T = A_inv\n",
    "\n",
    "import numpy as np\n",
    "\n",
    "a1 = np.array([ 2.46, 0.00,  0.00])\n",
    "a2 = np.array([-1.23, 2.14,  0.00])\n",
    "a3 = np.array([ 0.00, 0.00, 10.00])\n",
    "\n",
    "A = np.vstack([a1,a2,a3])\n",
    "\n",
    "V = np.linalg.inv(A).T\n",
    "\n",
    "print(f'v1 = {V[0]}\\nv2 = {V[1]}\\nv3 = {V[2]}\\n')"
   ]
  },
  {
   "cell_type": "code",
   "execution_count": null,
   "metadata": {},
   "outputs": [],
   "source": []
  }
 ],
 "metadata": {
  "kernelspec": {
   "display_name": "Python 3",
   "language": "python",
   "name": "python3"
  },
  "language_info": {
   "codemirror_mode": {
    "name": "ipython",
    "version": 3
   },
   "file_extension": ".py",
   "mimetype": "text/x-python",
   "name": "python",
   "nbconvert_exporter": "python",
   "pygments_lexer": "ipython3",
   "version": "3.6.8"
  }
 },
 "nbformat": 4,
 "nbformat_minor": 4
}
