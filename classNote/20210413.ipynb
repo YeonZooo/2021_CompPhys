{
 "cells": [
  {
   "cell_type": "code",
   "execution_count": 1,
   "metadata": {},
   "outputs": [],
   "source": [
    "import numpy as np\n",
    "import matplotlib.pyplot as plt\n",
    "from ch3 import *"
   ]
  },
  {
   "cell_type": "code",
   "execution_count": 2,
   "metadata": {},
   "outputs": [
    {
     "data": {
      "text/plain": [
       "-5.610000000000001"
      ]
     },
     "execution_count": 2,
     "metadata": {},
     "output_type": "execute_result"
    }
   ],
   "source": [
    "data = np.genfromtxt('./data/3.1_1.dat', delimiter=',')\n",
    "\n",
    "neville(data[0],data[1],0.3)"
   ]
  },
  {
   "cell_type": "raw",
   "metadata": {},
   "source": [
    "polyFit   # numpy, coeffient.\n",
    "neville   # Neville\n",
    "evalPoly  # Newton\n",
    "rational  # Rational"
   ]
  },
  {
   "cell_type": "code",
   "execution_count": 3,
   "metadata": {},
   "outputs": [
    {
     "data": {
      "text/plain": [
       "poly1d([ 0.79731051, -5.07315403])"
      ]
     },
     "execution_count": 3,
     "metadata": {},
     "output_type": "execute_result"
    }
   ],
   "source": [
    "cf = np.polyfit(data[0],data[1],1)\n",
    "ffun = np.poly1d(cf)\n",
    "\n",
    "ffun"
   ]
  },
  {
   "cell_type": "code",
   "execution_count": 4,
   "metadata": {},
   "outputs": [],
   "source": [
    "# Code the linear regression formula"
   ]
  },
  {
   "cell_type": "code",
   "execution_count": 9,
   "metadata": {},
   "outputs": [
    {
     "data": {
      "text/plain": [
       "(0.7973105134474328, -5.073154034229829)"
      ]
     },
     "execution_count": 9,
     "metadata": {},
     "output_type": "execute_result"
    }
   ],
   "source": [
    "x = data[0].copy()\n",
    "y = data[1].copy()\n",
    "\n",
    "b = sum(y * (x-x.mean()))/sum(x * (x-x.mean()))\n",
    "a = y.mean() - x.mean() * b\n",
    "\n",
    "b, a"
   ]
  },
  {
   "cell_type": "code",
   "execution_count": 10,
   "metadata": {},
   "outputs": [
    {
     "name": "stdout",
     "output_type": "stream",
     "text": [
      " x    yInterp   yExact\n",
      "-----------------------\n",
      "0.0   4.80003   4.80000\n",
      "0.5   4.78518   4.78520\n",
      "1.0   4.74088   4.74090\n",
      "1.5   4.66736   4.66738\n",
      "2.0   4.56507   4.56507\n",
      "2.5   4.43462   4.43462\n",
      "3.0   4.27683   4.27683\n",
      "3.5   4.09267   4.09267\n",
      "4.0   3.88327   3.88328\n",
      "4.5   3.64994   3.64995\n",
      "5.0   3.39411   3.39411\n",
      "5.5   3.11735   3.11735\n",
      "6.0   2.82137   2.82137\n",
      "6.5   2.50799   2.50799\n",
      "7.0   2.17915   2.17915\n",
      "7.5   1.83687   1.83688\n",
      "8.0   1.48329   1.48328\n"
     ]
    }
   ],
   "source": [
    "# Newton\n",
    "\n",
    "#!/usr/bin/python\n",
    "## example3_4\n",
    "import numpy as np\n",
    "import math\n",
    "#from newtonPoly import *\n",
    "\n",
    "xData = np.array([0.15,2.3,3.15,4.85,6.25,7.95])\n",
    "yData = np.array([4.79867,4.49013,4.2243,3.47313,2.66674,1.51909])\n",
    "a = coeffts(xData,yData)\n",
    "print(\" x    yInterp   yExact\")\n",
    "print(\"-----------------------\")\n",
    "for x in np.arange(0.0,8.1,0.5):\n",
    "    y = evalPoly(a,xData,x)\n",
    "    yExact = 4.8*math.cos(math.pi*x/20.0)\n",
    "    print('{:3.1f} {:9.5f} {:9.5f}'.format(x,y,yExact))\n",
    "#input(\"\\nPress return to exit\")"
   ]
  },
  {
   "cell_type": "code",
   "execution_count": 19,
   "metadata": {},
   "outputs": [
    {
     "name": "stdout",
     "output_type": "stream",
     "text": [
      "-6.0\n"
     ]
    },
    {
     "data": {
      "text/plain": [
       "-6.000000000000002"
      ]
     },
     "execution_count": 19,
     "metadata": {},
     "output_type": "execute_result"
    }
   ],
   "source": [
    "from ch3 import *\n",
    "\n",
    "# Newton\n",
    "acoeffes = coeffts(data[0],data[1])\n",
    "print(evalPoly(acoeffes,data[0],0))\n",
    "\n",
    "# Neville\n",
    "neville(data[0],data[1],0)"
   ]
  },
  {
   "cell_type": "code",
   "execution_count": 16,
   "metadata": {},
   "outputs": [
    {
     "data": {
      "text/plain": [
       "-6.000000000000002"
      ]
     },
     "execution_count": 16,
     "metadata": {},
     "output_type": "execute_result"
    }
   ],
   "source": [
    "# 1. Given the data points.\n",
    "x = np.array([-1.2,0.3,1.1])\n",
    "y = np.array([-5.76,-5.61,-3.69])\n",
    "# Determine y at x=0\n",
    "\n",
    "# 1-(a): Neville's Method\n",
    "print(neville(x,y,0))\n",
    "\n",
    "# 1-(b): Lagrange's Method\n"
   ]
  },
  {
   "cell_type": "code",
   "execution_count": 42,
   "metadata": {},
   "outputs": [
    {
     "data": {
      "image/png": "[encoded data removed]",
      "text/plain": [
       "<Figure size 432x288 with 1 Axes>"
      ]
     },
     "metadata": {
      "needs_background": "light"
     },
     "output_type": "display_data"
    }
   ],
   "source": [
    "# Plot 3.1_14 Using Neville and Rational interpolation in a grid of 40 points\n",
    "\n",
    "data = np.genfromtxt('./data/3.1_14.dat', delimiter=',')\n",
    "\n",
    "xdata = data[0]; ydata = data[1]\n",
    "\n",
    "x = np.linspace(xdata.min(),xdata.max(),40)\n",
    "y1 = np.zeros(40)\n",
    "y2 = np.zeros(40)\n",
    "\n",
    "for i, j in enumerate(x):\n",
    "    y1[i] = neville(xdata, ydata, j)\n",
    "    y2[i] = rational(xdata, ydata, j)\n",
    "\n",
    "plt.plot(x,y1,'-',label='neville')\n",
    "plt.plot(x,y2,'--',label='rational')\n",
    "plt.plot(xdata, ydata, '*', label='data')\n",
    "plt.legend()\n",
    "plt.grid()\n",
    "plt.show()"
   ]
  },
  {
   "cell_type": "code",
   "execution_count": 43,
   "metadata": {},
   "outputs": [
    {
     "data": {
      "image/png": "[encoded data removed]",
      "text/plain": [
       "<Figure size 432x288 with 1 Axes>"
      ]
     },
     "metadata": {
      "needs_background": "light"
     },
     "output_type": "display_data"
    }
   ],
   "source": [
    "# Plot 3.1_16 Using Neville and Rational interpolation in a grid of 40 points\n",
    "\n",
    "data = np.genfromtxt('./data/3.1_16.dat', delimiter=',')\n",
    "\n",
    "xdata = data[0]; ydata = data[1]\n",
    "\n",
    "x = np.linspace(xdata.min(),xdata.max(),40)\n",
    "y1 = np.zeros(40)\n",
    "y2 = np.zeros(40)\n",
    "\n",
    "for i, j in enumerate(x):\n",
    "    y1[i] = neville(xdata, ydata, j)\n",
    "    y2[i] = rational(xdata, ydata, j)\n",
    "\n",
    "plt.plot(x,y1,'-',label='neville')\n",
    "plt.plot(x,y2,'--',label='rational')\n",
    "plt.plot(xdata, ydata, '*', label='data')\n",
    "plt.legend()\n",
    "plt.grid()\n",
    "plt.show()"
   ]
  },
  {
   "cell_type": "code",
   "execution_count": null,
   "metadata": {},
   "outputs": [],
   "source": []
  }
 ],
 "metadata": {
  "kernelspec": {
   "display_name": "Python 3",
   "language": "python",
   "name": "python3"
  },
  "language_info": {
   "codemirror_mode": {
    "name": "ipython",
    "version": 3
   },
   "file_extension": ".py",
   "mimetype": "text/x-python",
   "name": "python",
   "nbconvert_exporter": "python",
   "pygments_lexer": "ipython3",
   "version": "3.6.8"
  }
 },
 "nbformat": 4,
 "nbformat_minor": 4
}
