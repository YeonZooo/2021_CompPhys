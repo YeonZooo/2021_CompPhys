{
 "cells": [
  {
   "cell_type": "code",
   "execution_count": 1,
   "metadata": {},
   "outputs": [
    {
     "name": "stdout",
     "output_type": "stream",
     "text": [
      "a1==b1: True\n",
      "a1==b2: False\n"
     ]
    }
   ],
   "source": [
    "import numpy as np\n",
    "\n",
    "# pointer\n",
    "\n",
    "a1 = [1,2,3]\n",
    "b1 = a1\n",
    "b2 = a1.copy()\n",
    "a1.append(2)\n",
    "\n",
    "print(f'a1==b1: {a1==b1}')\n",
    "print(f'a1==b2: {a1==b2}')"
   ]
  },
  {
   "cell_type": "code",
   "execution_count": 2,
   "metadata": {},
   "outputs": [
    {
     "name": "stdout",
     "output_type": "stream",
     "text": [
      "Total elapsed time 12.38908076286316\n"
     ]
    }
   ],
   "source": [
    "import time\n",
    "time_start = time.time()\n",
    "\n",
    "A = np.zeros((4000,4000))\n",
    "\n",
    "for i in range(4000):\n",
    "    for j in range(4000):\n",
    "        A[i,j] += 1\n",
    "        \n",
    "time_finish = time.time()\n",
    "\n",
    "print(f'Total elapsed time {time_finish-time_start}')"
   ]
  },
  {
   "cell_type": "code",
   "execution_count": 3,
   "metadata": {},
   "outputs": [
    {
     "name": "stdout",
     "output_type": "stream",
     "text": [
      "Total elapsed time 0.287463903427124\n"
     ]
    }
   ],
   "source": [
    "time_start = time.time()\n",
    "\n",
    "A = np.zeros((4000,4000))\n",
    "A += np.ones((4000,4000))\n",
    "\n",
    "time_finish = time.time()\n",
    "\n",
    "print(f'Total elapsed time {time_finish-time_start}')"
   ]
  },
  {
   "cell_type": "code",
   "execution_count": 4,
   "metadata": {},
   "outputs": [
    {
     "name": "stdout",
     "output_type": "stream",
     "text": [
      "Before a\n",
      "[[0.56640583 0.42706713 0.08029074]\n",
      " [0.46555882 0.84953566 0.1148495 ]\n",
      " [0.3803615  0.36574816 0.84802447]]\n",
      "\n",
      "Before b\n",
      "[0.29975103 0.7461685  0.34505076]\n",
      "\n",
      "After a\n",
      "[[ 5.66405833e-01  4.27067133e-01  8.02907426e-02]\n",
      " [ 0.00000000e+00  4.98506667e-01  4.88543031e-02]\n",
      " [-5.55111512e-17  0.00000000e+00  7.86368465e-01]]\n",
      "\n",
      "After b\n",
      "[0.29975103 0.49978732 0.06459701]\n",
      "\n",
      "x\n",
      "[-0.23229055  0.99451857  0.08214598]\n",
      "solve\n",
      "[-0.23229055  0.99451857  0.08214598]\n"
     ]
    }
   ],
   "source": [
    "# Algorithm for Gauss Elimination Method\n",
    "\n",
    "A = np.random.rand(3,4)\n",
    "\n",
    "a = A[0:3,0:3].copy()\n",
    "b = A[:,3].copy()\n",
    "ans = np.linalg.solve(a,b).copy()\n",
    "\n",
    "n = len(a) # or a.shape[0]\n",
    "\n",
    "print(f'Before a\\n{a}\\n')\n",
    "print(f'Before b\\n{b}\\n')\n",
    "\n",
    "# Elimination phase\n",
    "for k in range(0,n-1):      # pivot rows  k = 0, 1, ... , n-2\n",
    "    for i in range(k+1,n):  # i = k+1, k+2, ... , n-1\n",
    "        if a[i,k] != 0.0:\n",
    "            lam = a[i,k]/a[k,k]\n",
    "            a[i,k:n] = a[i,k:n] - lam*a[k,k:n]\n",
    "            b[i] = b[i] - lam*b[k]\n",
    "            \n",
    "print(f'After a\\n{a}\\n')\n",
    "print(f'After b\\n{b}\\n')\n",
    "\n",
    "# Back substitution\n",
    "\n",
    "x = np.zeros(n)\n",
    "\n",
    "for k in range(n-1,-1,-1): # From end to beginning\n",
    "    x[k] = (b[k] - np.dot(a[k,k+1:n],x[k+1:n]))/a[k,k]\n",
    "    \n",
    "print(f'x\\n{x}')\n",
    "print(f'solve\\n{ans}')"
   ]
  },
  {
   "cell_type": "code",
   "execution_count": 5,
   "metadata": {},
   "outputs": [],
   "source": [
    "# make function\n",
    "def gauss(a,b):\n",
    "    n = len(b) # or a.shape[0]\n",
    "    x = np.zeros(n)\n",
    "    \n",
    "    # Elimination phase\n",
    "    for k in range(0,n-1):      # pivot rows  k = 0, 1, ... , n-2\n",
    "        for i in range(k+1,n):  # i = k+1, k+2, ... , n-1\n",
    "            if a[i,k] != 0.0:\n",
    "                lam = a[i,k]/a[k,k]\n",
    "                a[i,k:n] = a[i,k:n] - lam*a[k,k:n]\n",
    "                b[i] = b[i] - lam*b[k]\n",
    "                \n",
    "    # Back substitution\n",
    "    for k in range(n-1,-1,-1): # From end to beginning\n",
    "        x[k] = (b[k] - np.dot(a[k,k+1:n],x[k+1:n]))/a[k,k]\n",
    "    \n",
    "    return x"
   ]
  },
  {
   "cell_type": "code",
   "execution_count": 12,
   "metadata": {},
   "outputs": [
    {
     "name": "stdout",
     "output_type": "stream",
     "text": [
      "Before a\n",
      "[[0.67694567 0.2583753  0.64162011]\n",
      " [0.35075608 0.67254613 0.44704742]\n",
      " [0.78800058 0.60193781 0.99503756]]\n",
      "\n",
      "Before b\n",
      "[0.70989022 0.43033098 0.73626576]\n",
      "\n",
      "After a\n",
      "[[ 0.16777045  0.          0.        ]\n",
      " [-0.0032744   0.40210936  0.        ]\n",
      " [ 0.78800058  0.60193781  0.99503756]]\n",
      "\n",
      "After b\n",
      "[0.26725549 0.09954376 0.73626576]\n",
      "\n",
      "x\n",
      "[ 1.59298308  0.2605257  -0.67919657]\n",
      "solve\n",
      "[ 1.59298308  0.2605257  -0.67919657]\n"
     ]
    }
   ],
   "source": [
    "# 실습문제: 가우스 소거법을 활용하여 하삼각 행렬을 만들어 봅시다.\n",
    "\n",
    "def gauss_inv(a,b):\n",
    "    n = len(b) # or a.shape[0]\n",
    "    x = np.zeros(n)\n",
    "\n",
    "    print(f'Before a\\n{a}\\n')\n",
    "    print(f'Before b\\n{b}\\n')\n",
    "    \n",
    "    # Elimination phase\n",
    "    for k in range(n-1,0,-1):       # pivot rows  k = 0, 1, ... , n-2\n",
    "        for i in range(k-1,-1,-1):   # i = k+1, k+2, ... , n-1\n",
    "            if a[i,k] != 0.0:\n",
    "                lam = a[i,k]/a[k,k]\n",
    "                a[i,:k+1] = a[i,:k+1] - lam*a[k,:k+1]\n",
    "                b[i] = b[i] - lam*b[k]\n",
    "                \n",
    "    print(f'After a\\n{a}\\n')\n",
    "    print(f'After b\\n{b}\\n')\n",
    "\n",
    "    # Back substitution\n",
    "    for k in range(0,n): # From beginning to end\n",
    "        x[k] = (b[k] - np.dot(a[k,:k],x[:k]))/a[k,k]\n",
    "\n",
    "    return x\n",
    "\n",
    "A = np.random.rand(3,4)\n",
    "\n",
    "a = A[0:3,0:3].copy()\n",
    "b = A[:,3].copy()\n",
    "ans = np.linalg.solve(a,b).copy()\n",
    "\n",
    "print(f'x\\n{gauss_inv(a,b)}')\n",
    "print(f'solve\\n{ans}')"
   ]
  },
  {
   "cell_type": "code",
   "execution_count": 13,
   "metadata": {},
   "outputs": [],
   "source": [
    "b1 = [1,2,3]\n",
    "b2 = [2,3,4]\n",
    "\n",
    "bmat1 = np.array([b1,b2])\n",
    "bmat2 = np.vstack((b1,b2))\n",
    "\n",
    "bt1 = bmat1.T\n",
    "bt2 = bmat2.T"
   ]
  },
  {
   "cell_type": "code",
   "execution_count": 27,
   "metadata": {},
   "outputs": [
    {
     "name": "stdout",
     "output_type": "stream",
     "text": [
      "Before a\n",
      "[[0.03590582 0.92842026 0.63496613]\n",
      " [0.50995124 0.7130299  0.47426485]\n",
      " [0.18792903 0.48512113 0.12932338]]\n",
      "\n",
      "Before b\n",
      "[[0.67217244 0.81609593]\n",
      " [0.70247507 0.38666818]\n",
      " [0.36252894 0.48447947]]\n",
      "\n",
      "After a\n",
      "[[  0.03590582   0.92842026   0.63496613]\n",
      " [  0.         -12.47282739  -8.54382001]\n",
      " [  0.           0.          -0.19776488]]\n",
      "\n",
      "After b\n",
      "[[  0.67217244   0.81609593]\n",
      " [ -8.84403125 -11.20390654]\n",
      " [ -0.05401202   0.14225134]]\n",
      "\n",
      "x\n",
      "[[ 0.39368025 -0.51770572]\n",
      " [ 0.52198343  1.39097855]\n",
      " [ 0.27311226 -0.71929522]]\n",
      "solve\n",
      "[[ 0.39368025 -0.51770572]\n",
      " [ 0.52198343  1.39097855]\n",
      " [ 0.27311226 -0.71929522]]\n"
     ]
    }
   ],
   "source": [
    "# gauss 루틴의 b를 행렬 형태로 받을 수 있게 코드를 바꾸시오\n",
    "\n",
    "a = np.array([[1,2,3],\n",
    "              [2,3,4],\n",
    "              [3,4,5]])\n",
    "b = np.array([[1,2],\n",
    "              [2,3],\n",
    "              [3,4]])\n",
    "\n",
    "\n",
    "def gauss(a,b):\n",
    "    n = len(b) # or a.shape[0]\n",
    "    x = np.zeros([n,len(b[0])])\n",
    "    print(f'Before a\\n{a}\\n')\n",
    "    print(f'Before b\\n{b}\\n')\n",
    "    # Elimination phase\n",
    "    for k in range(0,n-1):      # pivot rows  k = 0, 1, ... , n-2\n",
    "        for i in range(k+1,n):  # i = k+1, k+2, ... , n-1\n",
    "            if a[i,k] != 0.0:\n",
    "                lam = a[i,k]/a[k,k]\n",
    "                a[i,k:n] = a[i,k:n] - lam*a[k,k:n]\n",
    "                b[i,:] = b[i,:] - lam*b[k,:]\n",
    "    print(f'After a\\n{a}\\n')\n",
    "    print(f'After b\\n{b}\\n')\n",
    "                \n",
    "    # Back substitution\n",
    "    for k in range(n-1,-1,-1): # From end to beginning\n",
    "        x[k,0] = (b[k,0] - np.dot(a[k,k+1:n],x[k+1:n,0]))/a[k,k]\n",
    "        x[k,1] = (b[k,1] - np.dot(a[k,k+1:n],x[k+1:n,1]))/a[k,k]\n",
    "    \n",
    "    return x\n",
    "\n",
    "A = np.random.rand(3,5)\n",
    "\n",
    "a = A[0:3,0:3].copy()\n",
    "b = A[:,3:].copy()\n",
    "ans = np.linalg.solve(A[0:3,0:3],A[:,3:]).copy()\n",
    "\n",
    "print(f'x\\n{gauss(a,b)}')\n",
    "print(f'solve\\n{ans}')"
   ]
  },
  {
   "cell_type": "code",
   "execution_count": null,
   "metadata": {},
   "outputs": [],
   "source": [
    "# LU Decomposition Method"
   ]
  }
 ],
 "metadata": {
  "kernelspec": {
   "display_name": "Python 3",
   "language": "python",
   "name": "python3"
  },
  "language_info": {
   "codemirror_mode": {
    "name": "ipython",
    "version": 3
   },
   "file_extension": ".py",
   "mimetype": "text/x-python",
   "name": "python",
   "nbconvert_exporter": "python",
   "pygments_lexer": "ipython3",
   "version": "3.6.8"
  }
 },
 "nbformat": 4,
 "nbformat_minor": 4
}
