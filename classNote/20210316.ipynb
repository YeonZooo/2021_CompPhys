{
 "cells": [
  {
   "cell_type": "code",
   "execution_count": 1,
   "metadata": {},
   "outputs": [],
   "source": [
    "# 1. 복습\n",
    "# 2. 가우스 소거법 ->  LU 분해법\n",
    "# 3. 응용문제\n",
    "# 4. (숄레스키)\n",
    "#"
   ]
  },
  {
   "cell_type": "code",
   "execution_count": 2,
   "metadata": {},
   "outputs": [
    {
     "data": {
      "text/latex": [
       "$\\displaystyle \\left[\\begin{matrix}A_{11} & A_{12} & A_{13}\\\\A_{21} & A_{22} & A_{23}\\\\A_{31} & A_{32} & A_{33}\\end{matrix}\\right]$"
      ],
      "text/plain": [
       "⎡A_{11}  A_{12}  A_{13}⎤\n",
       "⎢                      ⎥\n",
       "⎢A_{21}  A_{22}  A_{23}⎥\n",
       "⎢                      ⎥\n",
       "⎣A_{31}  A_{32}  A_{33}⎦"
      ]
     },
     "execution_count": 2,
     "metadata": {},
     "output_type": "execute_result"
    }
   ],
   "source": [
    "from sympy import *\n",
    "init_printing()\n",
    "\n",
    "a11, a12, a13 = symbols('A_{11} A_{12} A_{13}')\n",
    "a21, a22, a23 = symbols('A_{21} A_{22} A_{23}')\n",
    "a31, a32, a33 = symbols('A_{31} A_{32} A_{33}')\n",
    "\n",
    "A = Matrix([[a11, a12, a13],[a21, a22, a23],[a31, a32, a33]])\n",
    "\n",
    "A"
   ]
  },
  {
   "cell_type": "code",
   "execution_count": 3,
   "metadata": {},
   "outputs": [],
   "source": [
    "import numpy as np\n",
    "\n",
    "A = np.array([[ 6, -4,  1],\n",
    "              [-4,  6, -4],\n",
    "              [ 1, -4,  6]])\n",
    "\n",
    "B = A.copy()\n",
    "\n",
    "B[[0,2]] = B[[2,0]]        # Row swap\n",
    "B[:,[0,2]] = B[:,[2,0]]    # Column swap"
   ]
  },
  {
   "cell_type": "code",
   "execution_count": 6,
   "metadata": {},
   "outputs": [],
   "source": [
    "def gauss(a,b):\n",
    "    n = len(b) # or a.shape[0]\n",
    "    x = np.zeros(b.shape)\n",
    "    # Elimination phase\n",
    "    for k in range(0,n-1):      # pivot rows  k = 0, 1, ... , n-2\n",
    "        for i in range(k+1,n):  # i = k+1, k+2, ... , n-1\n",
    "            if a[i,k] != 0.0:\n",
    "                lam = a[i,k]/a[k,k]\n",
    "                a[i,k:n] = a[i,k:n] - lam*a[k,k:n]\n",
    "                b[i,:] = b[i,:] - lam*b[k,:]\n",
    "    # Back substitution\n",
    "    for k in range(n-1,-1,-1): # From end to beginning\n",
    "        x[k,0] = (b[k,0] - np.dot(a[k,k+1:],x[k+1:,0]))/a[k,k]\n",
    "        x[k,1] = (b[k,1] - np.dot(a[k,k+1:],x[k+1:,1]))/a[k,k]\n",
    "    \n",
    "    return x"
   ]
  },
  {
   "cell_type": "code",
   "execution_count": 9,
   "metadata": {},
   "outputs": [
    {
     "name": "stdout",
     "output_type": "stream",
     "text": [
      "[[10.  3.]\n",
      " [22. -1.]\n",
      " [14.  0.]]\n",
      "[[11.94444444  3.        ]\n",
      " [25.66666667 -1.        ]\n",
      " [17.          0.        ]]\n",
      "[[ 6 -4  1]\n",
      " [ 0  3 -3]\n",
      " [ 0  0  2]]\n",
      "[[-14  22]\n",
      " [ 26  -3]\n",
      " [ 34   0]]\n",
      "[[11.94444444  3.        ]\n",
      " [25.66666667 -1.        ]\n",
      " [17.          0.        ]]\n"
     ]
    }
   ],
   "source": [
    "A = np.array([[ 6, -4,  1],\n",
    "              [-4,  6, -4],\n",
    "              [ 1, -4,  6]])\n",
    "\n",
    "B = np.array([[-14,  22],\n",
    "              [ 36, -18],\n",
    "              [  6,   7]])\n",
    "\n",
    "ans = np.linalg.solve(A,B)\n",
    "\n",
    "print(ans)\n",
    "print(gauss(A,B))\n",
    "\n",
    "# row2 -> row2 - lam1*row1\n",
    "lam1 = A[1,0]/A[0,0]\n",
    "A[1,:] = A[1,:] - lam1*A[0,:]\n",
    "B[1,:] = B[1,:] - lam1*B[0,:]\n",
    "\n",
    "\n",
    "# row3 -> row3 - lam2*row1\n",
    "lam2 = A[2,0]/A[0,0]\n",
    "A[2,:] = A[2,:] - lam2*A[0,:]\n",
    "B[2,:] = B[2,:] - lam2*B[0,:]\n",
    "\n",
    "\n",
    "# row3 -> row3 - lam3*row2\n",
    "lam3 = A[2,1]/A[1,1]\n",
    "A[2,:] = A[2,:] - lam3*A[1,:]\n",
    "B[2,:] = B[2,:] - lam3*B[1,:]\n",
    "\n",
    "x = np.zeros(B.shape)\n",
    "\n",
    "x[2,0] = (B[2,0])/A[2,2]\n",
    "x[1,0] = (B[1,0]-np.dot(A[1,2:],x[2:,0]))/A[1,1]\n",
    "x[0,0] = (B[0,0]-np.dot(A[0,1:],x[1:,0]))/A[0,0]\n",
    "\n",
    "x[2,1] = (B[2,1])/A[2,2]\n",
    "x[1,1] = (B[1,1]-np.dot(A[1,2:],x[2:,1]))/A[1,1]\n",
    "x[0,1] = (B[0,1]-np.dot(A[0,1:],x[1:,1]))/A[0,0]\n",
    "\n",
    "print(A)\n",
    "print(B)\n",
    "print(x)"
   ]
  },
  {
   "cell_type": "code",
   "execution_count": 10,
   "metadata": {},
   "outputs": [
    {
     "data": {
      "text/plain": [
       "array([[ True,  True,  True],\n",
       "       [ True,  True,  True],\n",
       "       [ True,  True,  True]])"
      ]
     },
     "execution_count": 10,
     "metadata": {},
     "output_type": "execute_result"
    }
   ],
   "source": [
    "# A = L*U\n",
    "\n",
    "A = np.array([[ 6, -4,  1],\n",
    "              [-4,  6, -4],\n",
    "              [ 1, -4,  6]])\n",
    "\n",
    "\n",
    "A@A == np.dot(A,A)"
   ]
  },
  {
   "cell_type": "code",
   "execution_count": null,
   "metadata": {},
   "outputs": [],
   "source": [
    "A = L@U\n",
    "A@x = b\n",
    "L@U@x = b\n",
    "\n",
    "y = U@x # 후진대입\n",
    "L@y = b # 전진대입\n",
    "\n"
   ]
  }
 ],
 "metadata": {
  "kernelspec": {
   "display_name": "Python 3",
   "language": "python",
   "name": "python3"
  },
  "language_info": {
   "codemirror_mode": {
    "name": "ipython",
    "version": 3
   },
   "file_extension": ".py",
   "mimetype": "text/x-python",
   "name": "python",
   "nbconvert_exporter": "python",
   "pygments_lexer": "ipython3",
   "version": "3.6.8"
  }
 },
 "nbformat": 4,
 "nbformat_minor": 4
}
