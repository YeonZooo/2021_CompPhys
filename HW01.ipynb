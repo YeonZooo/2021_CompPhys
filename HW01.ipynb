{
 "cells": [
  {
   "cell_type": "code",
   "execution_count": 4,
   "metadata": {},
   "outputs": [
    {
     "name": "stdout",
     "output_type": "stream",
     "text": [
      "A = [[0,a],[0,1]]\n"
     ]
    },
    {
     "data": {
      "image/png": "[encoded data removed]",
      "text/plain": [
       "<Figure size 432x288 with 1 Axes>"
      ]
     },
     "metadata": {
      "needs_background": "light"
     },
     "output_type": "display_data"
    }
   ],
   "source": [
    "# 3.\n",
    "\n",
    "import matplotlib.pyplot as plt\n",
    "import numpy as np\n",
    "    \n",
    "fig = plt.figure()\n",
    "ax = fig.add_subplot(111)\n",
    "\n",
    "ey = np.array([0,1])\n",
    "\n",
    "for a in np.arange(-1,1,0.2):\n",
    "    A = np.array([[0,a],[0,1]])\n",
    "    \n",
    "    v = np.dot(A,ey)\n",
    "    \n",
    "    plt.arrow(0,0,v[0],v[1],head_width=0.1,color='r')\n",
    "\n",
    "plt.xlim(-2,2)\n",
    "plt.ylim(-1,2)\n",
    "\n",
    "ax.set_aspect('equal', adjustable='box')\n",
    "plt.grid()\n",
    "plt.title('A$e_y$')\n",
    "\n",
    "print('A = [[0,a],[0,1]]')\n",
    "\n",
    "plt.show()"
   ]
  },
  {
   "cell_type": "code",
   "execution_count": 2,
   "metadata": {},
   "outputs": [
    {
     "name": "stdout",
     "output_type": "stream",
     "text": [
      "A = [[1. 2.]\n",
      " [0. 2.]]\n"
     ]
    }
   ],
   "source": [
    "# 4.\n",
    "\n",
    "# A = a_ij = [[a11 a12],\n",
    "#             [a21 a22]]\n",
    "\n",
    "# A(u+v)/2 = Aex = a_i1 = (Au+Av)/2\n",
    "# A(u-v)/2 = Aey = a_i2 = (Au-Av)/2\n",
    "\n",
    "import numpy as np\n",
    "\n",
    "Au = np.array([[3],[2]])\n",
    "Av = np.array([[-1],[-2]])\n",
    "\n",
    "a_i1 = (Au + Av)/2\n",
    "a_i2 = (Au - Av)/2\n",
    "\n",
    "A = np.array([[a_i1[0][0],a_i2[0][0]],\n",
    "              [a_i1[1][0],a_i2[1][0]]])\n",
    "\n",
    "print(f'A = {A}')"
   ]
  },
  {
   "cell_type": "code",
   "execution_count": 3,
   "metadata": {},
   "outputs": [
    {
     "name": "stdout",
     "output_type": "stream",
     "text": [
      "The number of rabbit:   6\n",
      "The number of chicken: 34\n"
     ]
    }
   ],
   "source": [
    "# 5.\n",
    "\n",
    "#     nRabbit +     nChicken = 40\n",
    "# 4 * nRabbit + 2 * nChicken = 92\n",
    "\n",
    "import numpy as np\n",
    "\n",
    "A = np.array([[1,1],\n",
    "              [4,2]])\n",
    "b = np.array([[40],[92]])\n",
    "\n",
    "x = np.linalg.solve(A,b)\n",
    "\n",
    "print(f'The number of rabbit:   {int(x[0])}\\nThe number of chicken: {int(x[1])}')"
   ]
  },
  {
   "cell_type": "code",
   "execution_count": null,
   "metadata": {},
   "outputs": [],
   "source": []
  }
 ],
 "metadata": {
  "kernelspec": {
   "display_name": "Python 3",
   "language": "python",
   "name": "python3"
  },
  "language_info": {
   "codemirror_mode": {
    "name": "ipython",
    "version": 3
   },
   "file_extension": ".py",
   "mimetype": "text/x-python",
   "name": "python",
   "nbconvert_exporter": "python",
   "pygments_lexer": "ipython3",
   "version": "3.6.8"
  }
 },
 "nbformat": 4,
 "nbformat_minor": 4
}
