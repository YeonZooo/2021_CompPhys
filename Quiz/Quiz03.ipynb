{
 "cells": [
  {
   "cell_type": "code",
   "execution_count": 1,
   "metadata": {},
   "outputs": [
    {
     "name": "stdout",
     "output_type": "stream",
     "text": [
      "1-1)\n",
      "b_{n} = (y_{n} - y_{n-1})/(0.1*n - 0.1*(n-1))\n",
      "      = (y_{n} - y_{n-1}/(0.1)\n",
      "\n",
      "b_1 = (y_1 - y_0)/(0.1)\n",
      "b_2 = (y_2 - y_1)/(0.1)\n",
      "b_3 = (y_3 - y_2)/(0.1)\n",
      "1-3)\n"
     ]
    },
    {
     "data": {
      "text/plain": [
       "<Figure size 640x480 with 1 Axes>"
      ]
     },
     "metadata": {},
     "output_type": "display_data"
    },
    {
     "ename": "NameError",
     "evalue": "name 'Aniv' is not defined",
     "output_type": "error",
     "traceback": [
      "\u001b[0;31m---------------------------------------------------------------------------\u001b[0m",
      "\u001b[0;31mNameError\u001b[0m                                 Traceback (most recent call last)",
      "\u001b[0;32m<ipython-input-1-7fa24e7dafaf>\u001b[0m in \u001b[0;36m<module>\u001b[0;34m\u001b[0m\n\u001b[1;32m     41\u001b[0m \u001b[0;34m\u001b[0m\u001b[0m\n\u001b[1;32m     42\u001b[0m \u001b[0;32mfor\u001b[0m \u001b[0mk\u001b[0m \u001b[0;32min\u001b[0m \u001b[0mrange\u001b[0m\u001b[0;34m(\u001b[0m\u001b[0;36m0\u001b[0m\u001b[0;34m,\u001b[0m\u001b[0;36m100\u001b[0m\u001b[0;34m)\u001b[0m\u001b[0;34m:\u001b[0m    \u001b[0;31m# Forward substitutution\u001b[0m\u001b[0;34m\u001b[0m\u001b[0;34m\u001b[0m\u001b[0m\n\u001b[0;32m---> 43\u001b[0;31m     \u001b[0mAinv\u001b[0m\u001b[0;34m[\u001b[0m\u001b[0mk\u001b[0m\u001b[0;34m]\u001b[0m \u001b[0;34m=\u001b[0m \u001b[0;34m(\u001b[0m\u001b[0mAinv\u001b[0m\u001b[0;34m[\u001b[0m\u001b[0mk\u001b[0m\u001b[0;34m]\u001b[0m \u001b[0;34m-\u001b[0m \u001b[0mnp\u001b[0m\u001b[0;34m.\u001b[0m\u001b[0mdot\u001b[0m\u001b[0;34m(\u001b[0m\u001b[0mA\u001b[0m\u001b[0;34m[\u001b[0m\u001b[0mk\u001b[0m\u001b[0;34m,\u001b[0m\u001b[0;36m0\u001b[0m\u001b[0;34m:\u001b[0m\u001b[0mk\u001b[0m\u001b[0;34m]\u001b[0m\u001b[0;34m,\u001b[0m\u001b[0mAniv\u001b[0m\u001b[0;34m[\u001b[0m\u001b[0;36m0\u001b[0m\u001b[0;34m:\u001b[0m\u001b[0mk\u001b[0m\u001b[0;34m]\u001b[0m\u001b[0;34m)\u001b[0m\u001b[0;34m)\u001b[0m\u001b[0;34m/\u001b[0m\u001b[0mAinv\u001b[0m\u001b[0;34m[\u001b[0m\u001b[0mk\u001b[0m\u001b[0;34m,\u001b[0m\u001b[0mk\u001b[0m\u001b[0;34m]\u001b[0m\u001b[0;34m\u001b[0m\u001b[0;34m\u001b[0m\u001b[0m\n\u001b[0m\u001b[1;32m     44\u001b[0m \u001b[0;34m\u001b[0m\u001b[0m\n\u001b[1;32m     45\u001b[0m print(f\"\"\"1-4)\n",
      "\u001b[0;31mNameError\u001b[0m: name 'Aniv' is not defined"
     ]
    }
   ],
   "source": [
    "# 1\n",
    "\n",
    "# 1-1\n",
    "print(\"\"\"1-1)\n",
    "b_{n} = (y_{n} - y_{n-1})/(0.1*n - 0.1*(n-1))\n",
    "      = (y_{n} - y_{n-1}/(0.1)\n",
    "\n",
    "b_1 = (y_1 - y_0)/(0.1)\n",
    "b_2 = (y_2 - y_1)/(0.1)\n",
    "b_3 = (y_3 - y_2)/(0.1)\"\"\")\n",
    "\n",
    "# 1-2\n",
    "import numpy as np\n",
    "\n",
    "A = (np.eye(100,k=0) - np.eye(100,k=-1))/(0.1)\n",
    "b = np.zeros(100)\n",
    "\n",
    "for n in range(100):\n",
    "    b[n] = 4*(0.1*n)\n",
    "\n",
    "\n",
    "# 1-3\n",
    "import matplotlib.pyplot as plt\n",
    "\n",
    "for k in range(0,100):    # Forward substitutution\n",
    "    b[k] = (b[k] - np.dot(A[k,0:k],b[0:k]))/A[k,k]\n",
    "\n",
    "x = np.linspace(0,10,100)\n",
    "y = 2*x**2 + 10\n",
    "\n",
    "print(\"1-3)\")\n",
    "plt.plot(x,b,label=\"y\")\n",
    "plt.plot(x,y,label=r\"$y=x^2 + 10\")\n",
    "plt.xlabel(\"x\")\n",
    "plt.ylabel(\"y\")\n",
    "plt.grid()\n",
    "plt.show()\n",
    "\n",
    "# 1-4\n",
    "\n",
    "Ainv = np.eye(100)\n",
    "\n",
    "for k in range(0,100):    # Forward substitutution\n",
    "    Ainv[k] = (Ainv[k] - np.dot(A[k,0:k],Aniv[0:k]))/Ainv[k,k]\n",
    "    \n",
    "print(f\"\"\"1-4)\n",
    "Ainv:\n",
    "{Ainv}\n",
    "{(np.linalg.inv(A) == Ainv).all()}\"\"\")\n",
    "\n",
    "\n",
    "# 1-5"
   ]
  },
  {
   "cell_type": "code",
   "execution_count": null,
   "metadata": {},
   "outputs": [],
   "source": [
    "# 2-1\n",
    "print(\"\"\"2-1)\n",
    "C: 1*y1 + 0*y2 =  3*y3 + 0*y4\n",
    "H: 0*y1 + 2*y2 = 12*y3 + 0*y4\n",
    "O: 2*y1 + 1*y2 =  6*y3 + 2*y4\n",
    "\"\"\")\n",
    "\n",
    "# 2-2\n",
    "# c = 1, -> y1 = 1\n",
    "# y = [y1, y2, y4]\n",
    "\n",
    "A = np.array([[1.0, 0.0, 0.0],\n",
    "              [0.0, 2.0, 0.0],\n",
    "              [2.0, 1.0,-2.0]])\n",
    "b = np.array([3.0, 12.0, 6.0])\n",
    "\n",
    "# 2-3\n",
    "def LUdecomp(a):\n",
    "    n = len(a)\n",
    "    for k in range(0,n-1):\n",
    "        for i in range(k+1,n):\n",
    "            if a[i,k] != 0.0:\n",
    "                lam = a [i,k]/a[k,k]\n",
    "                a[i,k+1:n] = a[i,k+1:n] - lam*a[k,k+1:n]\n",
    "                a[i,k] = lam\n",
    "    return a\n",
    "\n",
    "def LUsolve(a,b):\n",
    "    n = len(a)\n",
    "    for k in range(1,n):\n",
    "        b[k] = b[k] - np.dot(a[k,0:k],b[0:k])\n",
    "    b[n-1] = b[n-1]/a[n-1,n-1]\n",
    "    for k in range(n-2,-1,-1):\n",
    "        b[k] = (b[k] - np.dot(a[k,k+1:n],b[k+1:n]))/a[k,k]\n",
    "    \n",
    "    return b\n",
    "\n",
    "a = LUdecomp(A.copy())\n",
    "Ainv = LUsolve(a,np.eye(3))\n",
    "\n",
    "print(\"\"\"2-2)\n",
    "Ainv:\n",
    "{Ainv}\"\"\")\n",
    "\n",
    "# 2-3\n"
   ]
  },
  {
   "cell_type": "code",
   "execution_count": null,
   "metadata": {},
   "outputs": [],
   "source": []
  }
 ],
 "metadata": {
  "kernelspec": {
   "display_name": "Python 3",
   "language": "python",
   "name": "python3"
  },
  "language_info": {
   "codemirror_mode": {
    "name": "ipython",
    "version": 3
   },
   "file_extension": ".py",
   "mimetype": "text/x-python",
   "name": "python",
   "nbconvert_exporter": "python",
   "pygments_lexer": "ipython3",
   "version": "3.6.8"
  }
 },
 "nbformat": 4,
 "nbformat_minor": 4
}
